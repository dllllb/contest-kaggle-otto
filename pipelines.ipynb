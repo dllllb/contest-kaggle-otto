{
 "cells": [
  {
   "cell_type": "markdown",
   "metadata": {},
   "source": [
    "# Links\n",
    "- https://www.kaggle.com/c/otto-group-product-classification-challenge\n",
    "\n",
    "# Solutions\n",
    "- 4-th place: https://github.com/diefimov/otto_2015\n",
    "- 12-th place: https://github.com/tks0123456789/kaggle-Otto\n",
    "- 66-th place: https://github.com/ahara/kaggle_otto"
   ]
  },
  {
   "cell_type": "code",
   "execution_count": 2,
   "metadata": {
    "collapsed": true
   },
   "outputs": [],
   "source": [
    "import pandas as pd\n",
    "from sklearn.calibration import CalibratedClassifierCV\n",
    "from sklearn.model_selection import cross_val_score\n",
    "import numpy as np"
   ]
  },
  {
   "cell_type": "code",
   "execution_count": 1,
   "metadata": {},
   "outputs": [
    {
     "name": "stderr",
     "output_type": "stream",
     "text": [
      "/Users/dmitri/anaconda/lib/python2.7/site-packages/sklearn/cross_validation.py:44: DeprecationWarning: This module was deprecated in version 0.18 in favor of the model_selection module into which all the refactored classes and functions are moved. Also note that the interface of the new CV iterators are different from that of this module. This module will be removed in 0.20.\n",
      "  \"This module will be removed in 0.20.\", DeprecationWarning)\n"
     ]
    }
   ],
   "source": [
    "%run ds_tools/dstools/ml/xgboost_tools.py"
   ]
  },
  {
   "cell_type": "code",
   "execution_count": 4,
   "metadata": {
    "collapsed": true
   },
   "outputs": [],
   "source": [
    "def cv_test(est):\n",
    "    scores = cross_val_score(estimator=est, X=features, y=labels, cv=3, scoring='log_loss')\n",
    "    print('mean: {mean}, std: {std}'.format(mean=scores.mean(), std=scores.std()))"
   ]
  },
  {
   "cell_type": "code",
   "execution_count": 6,
   "metadata": {
    "collapsed": true
   },
   "outputs": [],
   "source": [
    "def submission(est):\n",
    "    model = est.fit(features, labels)\n",
    "\n",
    "    df_test = read_csv('test.csv.gz', index_col='id')\n",
    "\n",
    "    y_pred = model.predict_proba(df_test)\n",
    "\n",
    "    res_df = DataFrame(y_pred, columns=['Class_%d' % n for n in range(1, 10)], index=df_test.index)\n",
    "    res_df.to_csv('results.csv', index_label='id')"
   ]
  },
  {
   "cell_type": "code",
   "execution_count": 5,
   "metadata": {
    "collapsed": true
   },
   "outputs": [],
   "source": [
    "df = pd.read_csv('train.csv.gz', index_col='id')\n",
    "\n",
    "features = df.drop(['target'], axis=1)\n",
    "labels = df.target.apply(lambda e: e[6:]).astype(np.int16)-1"
   ]
  },
  {
   "cell_type": "code",
   "execution_count": 7,
   "metadata": {
    "collapsed": true
   },
   "outputs": [],
   "source": [
    "xgb_params = {\n",
    "    \"objective\": \"multi:softprob\",\n",
    "    \"num_class\": 9,\n",
    "    \"eta\": 0.1,\n",
    "    \"num_rounds\": 10000,\n",
    "    \"max_depth\": 10,\n",
    "    \"min_child_weight\": 4,\n",
    "    \"gamma\": 1,\n",
    "    \"subsample\": 0.7,\n",
    "    \"colsample_bytree\": 0.7,\n",
    "    \"scale_pos_weight\": 1,\n",
    "    \"silent\": 2,\n",
    "    \"eval_metric\": \"mlogloss\",\n",
    "}\n",
    "\n",
    "# mean: -0.4829334319, std: 0.00535488081374\n",
    "# cv execution time: 772.511557102 sec\n",
    "est1 = XGBoostClassifier(**xgb_params)"
   ]
  },
  {
   "cell_type": "code",
   "execution_count": 8,
   "metadata": {
    "collapsed": true
   },
   "outputs": [],
   "source": [
    "# mean: -0.47376124206, std: 0.00323548514227\n",
    "# cv execution time: 3183.97259498 sec\n",
    "est2 = CalibratedClassifierCV(base_estimator=est1, cv=5, method='isotonic')"
   ]
  },
  {
   "cell_type": "code",
   "execution_count": null,
   "metadata": {
    "collapsed": true
   },
   "outputs": [],
   "source": []
  }
 ],
 "metadata": {
  "kernelspec": {
   "display_name": "Python 3",
   "language": "python",
   "name": "python3"
  },
  "language_info": {
   "codemirror_mode": {
    "name": "ipython",
    "version": 3
   },
   "file_extension": ".py",
   "mimetype": "text/x-python",
   "name": "python",
   "nbconvert_exporter": "python",
   "pygments_lexer": "ipython3",
   "version": "3.6.1"
  }
 },
 "nbformat": 4,
 "nbformat_minor": 1
}
